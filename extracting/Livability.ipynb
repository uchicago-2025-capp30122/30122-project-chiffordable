{
 "cells": [
  {
   "cell_type": "code",
   "execution_count": 13,
   "metadata": {},
   "outputs": [
    {
     "name": "stdout",
     "output_type": "stream",
     "text": [
      "\n",
      "📌 Scraping ZIP Code: 60601\n",
      "\n",
      "<Element html at 0x114670d60>\n",
      "\n",
      "📌 Scraping ZIP Code: 60602\n",
      "\n",
      "<Element html at 0x11462d8b0>\n"
     ]
    }
   ],
   "source": [
    "import time\n",
    "import httpx\n",
    "import lxml.html\n",
    "\n",
    "\n",
    "# ---------------------------- Utility Functions ----------------------------\n",
    "\n",
    "def complete_link(zip_code: str) -> str:\n",
    "    \"\"\"\n",
    "    Ensures the URL is complete. If the URL is incomplete (starts with '/'),\n",
    "    it will prepend the base URL ('https://www.zillow.com').\n",
    "\n",
    "    :param url: The URL to complete.\n",
    "    :return: The complete URL.\n",
    "    \"\"\"\n",
    "    base_url = \"https://livabilityindex.aarp.org/search/Chicago,%20Illinois%20\"\n",
    "    suffix = \",%20United%20States#scores\"\n",
    "    return base_url + zip_code + suffix\n",
    "\n",
    "# --------------------------- Scraper Function ------------------------------\n",
    "def make_request(zip_code: str):\n",
    "    headers = {\n",
    "        \"User-Agent\": \"Mozilla/5.0 (Windows NT 10.0; Win64; x64) AppleWebKit/537.36 (KHTML, like Gecko) Chrome/91.0.4472.124 Safari/537.36\"\n",
    "    }\n",
    "    with httpx.Client(headers = headers, follow_redirects=True) as client:\n",
    "        url = complete_link(zip_code)\n",
    "        response = client.get(url)\n",
    "        zip_data = lxml.html.fromstring(response.text)\n",
    "        print(zip_data)\n",
    "        return zip_data\n",
    "    \n",
    "# ---------------------------- Main Function ----------------------------\n",
    "def main(zip_codes: list):\n",
    "    zipcodes_data = {}\n",
    "\n",
    "    for zip_code in zip_codes:\n",
    "        print(f\"\\n📌 Scraping ZIP Code: {zip_code}\\n\")\n",
    "        zipcodes_data[zip_code] = make_request(zip_code)\n",
    "        time.sleep(1)\n",
    "    return zipcodes_data\n",
    "\n",
    "# ---------------------------- Example Usage ----------------------------\n",
    "\n",
    "if __name__ == \"__main__\":\n",
    "    chicago_zip_codes = [\n",
    "     \"60601\", \"60602\", \"60603\", \"60604\", \"60605\", \"60606\", \"60607\", \"60608\", \"60609\",\n",
    "    \"60610\", \"60611\", \"60612\", \"60613\", \"60614\", \"60615\", \"60616\", \"60617\", \"60618\", \"60619\",\n",
    "    \"60620\", \"60621\", \"60622\", \"60623\", \"60624\", \"60625\", \"60626\", \"60628\", \"60629\", \"60630\",\n",
    "    \"60631\", \"60632\", \"60633\", \"60634\", \"60636\", \"60637\", \"60638\", \"60639\", \"60640\", \"60641\",\n",
    "    \"60642\", \"60643\", \"60644\", \"60645\", \"60646\", \"60647\", \"60649\", \"60651\", \"60652\", \"60653\",\n",
    "    \"60654\", \"60655\", \"60656\", \"60657\", \"60659\", \"60660\", \"60661\", #\"60664\", \n",
    "    \"60666\", \"60668\",\n",
    "    \"60669\", \"60670\", \"60673\", \"60674\", \"60675\", \"60677\", \"60678\", \"60680\", \"60681\", \"60682\",\n",
    "    \"60684\", \"60685\", \"60686\", \"60687\", \"60688\", \"60689\", \"60690\", \"60691\", \"60693\", \"60694\",\n",
    "    \"60695\", \"60696\", \"60697\", \"60699\", \"60701\"\n",
    "]\n",
    "    chicago_zip_codes = [\"60601\", \"60602\"]\n",
    "    \n",
    "    livability_data = main(chicago_zip_codes)\n"
   ]
  }
 ],
 "metadata": {
  "kernelspec": {
   "display_name": "Python 3",
   "language": "python",
   "name": "python3"
  },
  "language_info": {
   "codemirror_mode": {
    "name": "ipython",
    "version": 3
   },
   "file_extension": ".py",
   "mimetype": "text/x-python",
   "name": "python",
   "nbconvert_exporter": "python",
   "pygments_lexer": "ipython3",
   "version": "3.9.6"
  }
 },
 "nbformat": 4,
 "nbformat_minor": 2
}
