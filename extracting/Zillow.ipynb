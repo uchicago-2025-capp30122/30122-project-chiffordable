{
 "cells": [
  {
   "cell_type": "code",
   "execution_count": null,
   "metadata": {},
   "outputs": [
    {
     "name": "stdout",
     "output_type": "stream",
     "text": [
      "Status Code: 200\n"
     ]
    },
    {
     "ename": "XPathEvalError",
     "evalue": "Unfinished literal",
     "output_type": "error",
     "traceback": [
      "\u001b[0;31m---------------------------------------------------------------------------\u001b[0m",
      "\u001b[0;31mXPathEvalError\u001b[0m                            Traceback (most recent call last)",
      "Cell \u001b[0;32mIn[17], line 41\u001b[0m\n\u001b[1;32m     37\u001b[0m root \u001b[38;5;241m=\u001b[39m lxml\u001b[38;5;241m.\u001b[39mhtml\u001b[38;5;241m.\u001b[39mfromstring(html)\n\u001b[1;32m     39\u001b[0m \u001b[38;5;66;03m# Extract data. \u001b[39;00m\n\u001b[0;32m---> 41\u001b[0m property_info \u001b[38;5;241m=\u001b[39m \u001b[43mroot\u001b[49m\u001b[38;5;241;43m.\u001b[39;49m\u001b[43mxpath\u001b[49m\u001b[43m(\u001b[49m\u001b[38;5;124;43m'\u001b[39;49m\u001b[38;5;124;43m//li/div/div[@class=\u001b[39;49m\u001b[38;5;124;43m\"\u001b[39;49m\u001b[38;5;124;43mListItem-c11n-8-109-1__sc-13rwu5a-0 StyledListCardWrapper-srp-8-109-1__sc-wtsrtn-0 bvHMyj khcxqR]\u001b[39;49m\u001b[38;5;124;43m'\u001b[39;49m\u001b[43m)\u001b[49m\n",
      "File \u001b[0;32msrc/lxml/etree.pyx:1597\u001b[0m, in \u001b[0;36mlxml.etree._Element.xpath\u001b[0;34m()\u001b[0m\n",
      "File \u001b[0;32msrc/lxml/xpath.pxi:305\u001b[0m, in \u001b[0;36mlxml.etree.XPathElementEvaluator.__call__\u001b[0;34m()\u001b[0m\n",
      "File \u001b[0;32msrc/lxml/xpath.pxi:225\u001b[0m, in \u001b[0;36mlxml.etree._XPathEvaluatorBase._handle_result\u001b[0;34m()\u001b[0m\n",
      "\u001b[0;31mXPathEvalError\u001b[0m: Unfinished literal"
     ]
    }
   ],
   "source": [
    "import httpx\n",
    "import lxml.html\n",
    "import json\n",
    "\n",
    "# Target URL\n",
    "url = \"https://www.zillow.com/chicago-il/rentals/\"\n",
    "\n",
    "# Headers copied from your request\n",
    "headers = {\n",
    "    \"Accept\": \"text/html,application/xhtml+xml,application/xml;q=0.9,*/*;q=0.8\",\n",
    "    \"Accept-Encoding\": \"gzip, deflate, br\",\n",
    "    \"Accept-Language\": \"en-US,en;q=0.9\",\n",
    "    \"Cache-Control\": \"no-cache\",\n",
    "    \"Connection\": \"keep-alive\",\n",
    "    \"Host\": \"www.zillow.com\",\n",
    "    \"Pragma\": \"no-cache\",\n",
    "    \"Sec-Fetch-Dest\": \"document\",\n",
    "    \"Sec-Fetch-Mode\": \"navigate\",\n",
    "    \"Sec-Fetch-Site\": \"none\",\n",
    "    \"User-Agent\": \"Mozilla/5.0 (Macintosh; Intel Mac OS X 10_15_7) AppleWebKit/605.1.15 (KHTML, like Gecko) Version/17.6 Safari/605.1.15\"\n",
    "}\n",
    "\n",
    "# Create a session with httpx\n",
    "# Ojo acá es .Client httpx\n",
    "with httpx.Client(headers=headers, follow_redirects=True) as client:\n",
    "    response = client.get(url)\n",
    "\n",
    "# Print the response status code and part of the content\n",
    "print(f\"Status Code: {response.status_code}\")\n",
    "#print(response.text[:500])  # Print first 500 characters of the HTML\n",
    "\n",
    "#Have our response to text\n",
    "html = response.text\n",
    "#print(\"HERE IS MY HTM TEXT\", html)\n",
    "\n",
    "# parse:\n",
    "root = lxml.html.fromstring(html)\n",
    "\n",
    "# Extract data. \n",
    "class_string = \"ListItem-c11n-8-109-1__sc-13rwu5a-0 StyledListCardWrapper-srp-8-109-1__sc-wtsrtn-0 bvHMyj khcxqR\"\n",
    "property_info = root.xpath('//li/div/div[@class={class_string}')[0].text_content()\n",
    "\n",
    "\n",
    "    \n",
    "\n",
    "\n",
    "\n",
    "\n",
    "\n",
    "\n"
   ]
  }
 ],
 "metadata": {
  "kernelspec": {
   "display_name": "Python 3",
   "language": "python",
   "name": "python3"
  },
  "language_info": {
   "codemirror_mode": {
    "name": "ipython",
    "version": 3
   },
   "file_extension": ".py",
   "mimetype": "text/x-python",
   "name": "python",
   "nbconvert_exporter": "python",
   "pygments_lexer": "ipython3",
   "version": "3.10.12"
  }
 },
 "nbformat": 4,
 "nbformat_minor": 2
}
