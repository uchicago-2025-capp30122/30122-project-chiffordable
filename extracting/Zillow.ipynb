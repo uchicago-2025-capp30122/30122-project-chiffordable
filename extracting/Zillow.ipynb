{
 "cells": [
  {
   "cell_type": "code",
   "execution_count": 3,
   "metadata": {},
   "outputs": [
    {
     "name": "stdout",
     "output_type": "stream",
     "text": [
      "Status Code: 200\n",
      "<!DOCTYPE html><html lang=\"en\"><head><script id=\"web-platform-datadog-rum-init\">\n",
      "    (function(h,o,u,n,d) {\n",
      "      h=h[d]=h[d]||{q:[],onReady:function(c){h.q.push(c)}}\n",
      "      d=o.createElement(u);d.async=1;d.src=n\n",
      "      n=o.getElementsByTagName(u)[0];n.parentNode.insertBefore(d,n)\n",
      "    })(window,document,'script','https://www.datadoghq-browser-agent.com/us1/v5/datadog-rum.js','DD_RUM')\n",
      "    window.DD_RUM.onReady(function() {\n",
      "        \n",
      "      \n",
      "        const shouldSetupDataDogRum = false;\n",
      "        const \n"
     ]
    }
   ],
   "source": [
    "import httpx\n",
    "import lxml.html\n",
    "\n",
    "# Target URL\n",
    "target_url = \"https://www.zillow.com/Chicago%20IL/\"\n",
    "\n",
    "# Headers copied from your request\n",
    "headers = {\n",
    "    \"Accept\": \"text/html,application/xhtml+xml,application/xml;q=0.9,*/*;q=0.8\",\n",
    "    \"Cache-Control\": \"no-cache\",\n",
    "    \"Pragma\": \"no-cache\",\n",
    "    \"Sec-Fetch-Dest\": \"document\",\n",
    "    \"Sec-Fetch-Mode\": \"navigate\",\n",
    "    \"Sec-Fetch-Site\": \"none\",\n",
    "    \"User-Agent\": \"Mozilla/5.0 (Macintosh; Intel Mac OS X 10_15_7) AppleWebKit/605.1.15 (KHTML, like Gecko) Version/17.6 Safari/605.1.15\",\n",
    "    \"Accept-Encoding\": \"gzip, deflate, br\",\n",
    "    \"Accept-Language\": \"en-US,en;q=0.9\",\n",
    "    \"Connection\": \"keep-alive\",\n",
    "    \"Host\": \"www.zillow.com\"\n",
    "}\n",
    "\n",
    "# Create a session with httpx\n",
    "# Ojo acá es .Client httpx\n",
    "with httpx.Client(headers=headers, follow_redirects=True) as client:\n",
    "    response = client.get(target_url)\n",
    "\n",
    "# Print the response status code and part of the content\n",
    "print(f\"Status Code: {response.status_code}\")\n",
    "print(response.text[:500])  # Print first 500 characters of the HTML\n",
    "\n",
    "#Have our response to text\n",
    "html = response.text\n",
    "#print(html)\n",
    "\n",
    "\n",
    "\n",
    "\n"
   ]
  }
 ],
 "metadata": {
  "kernelspec": {
   "display_name": "Python 3",
   "language": "python",
   "name": "python3"
  },
  "language_info": {
   "codemirror_mode": {
    "name": "ipython",
    "version": 3
   },
   "file_extension": ".py",
   "mimetype": "text/x-python",
   "name": "python",
   "nbconvert_exporter": "python",
   "pygments_lexer": "ipython3",
   "version": "3.9.6"
  }
 },
 "nbformat": 4,
 "nbformat_minor": 2
}
